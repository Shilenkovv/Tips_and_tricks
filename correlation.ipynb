{
 "cells": [
  {
   "cell_type": "code",
   "execution_count": 1,
   "metadata": {},
   "outputs": [],
   "source": [
    "import numpy as np\n",
    "import pandas as pd\n",
    "import random"
   ]
  },
  {
   "cell_type": "markdown",
   "metadata": {},
   "source": [
    "**Корреляциия Пирсона:**  \n",
    "Измеряет линейную зависимость между двумя переменными.  \n",
    "Высокая чувствительность к выбросам.\n",
    "\n",
    "$$\n",
    "r = \\frac{COV(X,Y)}{\\sigma_x \\sigma_y}\n",
    "$$\n",
    "$$\n",
    "COV(X,Y) = \\frac{1}{n}\\sum_{i=1}^n(X_i - \\bar{X})(Y_i - \\bar{Y})\n",
    "$$\n",
    "\n",
    "$$\n",
    "\\sigma_x = \\sqrt{\\frac{1}{n} \\sum_{i=1}^n (X_i - \\bar{X})^2}\n",
    "$$\n",
    "$$\n",
    "\\sigma_y = \\sqrt{\\frac{1}{n} \\sum_{i=1}^n (Y_i - \\bar{Y})^2}\n",
    "$$\n",
    "**Корреляция Спирмена:**  \n",
    "Измеряет монотонную зависимость между переменными (линейную или нелинейную).  \n",
    "Низкая чувствительность к выбросам(основана на ранжировании данных).  \n",
    "\n",
    "$$\n",
    "p = 1 - \\dfrac{6 \\sum_{i=1}^n d_i^2}{n (n^2 - 1)}\n",
    "$$\n",
    "Где $d$ - разница между рангами $X$ и $Y$ для $i$-го элемента\n",
    "$$\n",
    "d_i = R(X_i) - R(Y_i)\n",
    "$$\n",
    "а $n$ - количество элементов."
   ]
  },
  {
   "cell_type": "code",
   "execution_count": 2,
   "metadata": {},
   "outputs": [],
   "source": [
    "def calc_corr(a, b, cor_type: str = \"pearson\"):\n",
    "    if cor_type == \"pearson\":\n",
    "        a_mean = a.mean()\n",
    "        b_mean = b.mean()\n",
    "        cov = np.mean(np.sum(np.multiply(a - a_mean, b - b_mean)))\n",
    "        a_std = np.sqrt(np.mean(np.sum(np.power(a - a_mean, 2))))\n",
    "        b_std = np.sqrt(np.mean(np.sum(np.power(b - b_mean, 2))))\n",
    "        corr = cov / a_std / b_std\n",
    "    elif cor_type == \"spearman\":\n",
    "        a_ranks = dict()\n",
    "        b_ranks = dict()\n",
    "        a_ranks = {value: rank + 1 for rank, value in enumerate(sorted(a))}\n",
    "        b_ranks = {value: rank + 1 for rank, value in enumerate(sorted(b))}\n",
    "        d_squared = 0\n",
    "        for i in range(len(a)):\n",
    "            d_squared += np.power(a_ranks.get(a[i]) - b_ranks.get(b[i]), 2)\n",
    "        corr = 1 - ((6 * d_squared) / (len(a) * (np.power(len(a), 2) - 1)))\n",
    "    return corr"
   ]
  },
  {
   "cell_type": "code",
   "execution_count": 3,
   "metadata": {},
   "outputs": [
    {
     "name": "stdout",
     "output_type": "stream",
     "text": [
      "Pearson std\n"
     ]
    },
    {
     "data": {
      "text/html": [
       "<div>\n",
       "<style scoped>\n",
       "    .dataframe tbody tr th:only-of-type {\n",
       "        vertical-align: middle;\n",
       "    }\n",
       "\n",
       "    .dataframe tbody tr th {\n",
       "        vertical-align: top;\n",
       "    }\n",
       "\n",
       "    .dataframe thead th {\n",
       "        text-align: right;\n",
       "    }\n",
       "</style>\n",
       "<table border=\"1\" class=\"dataframe\">\n",
       "  <thead>\n",
       "    <tr style=\"text-align: right;\">\n",
       "      <th></th>\n",
       "      <th>a</th>\n",
       "      <th>b</th>\n",
       "    </tr>\n",
       "  </thead>\n",
       "  <tbody>\n",
       "    <tr>\n",
       "      <th>a</th>\n",
       "      <td>1.000000</td>\n",
       "      <td>0.860756</td>\n",
       "    </tr>\n",
       "    <tr>\n",
       "      <th>b</th>\n",
       "      <td>0.860756</td>\n",
       "      <td>1.000000</td>\n",
       "    </tr>\n",
       "  </tbody>\n",
       "</table>\n",
       "</div>"
      ],
      "text/plain": [
       "          a         b\n",
       "a  1.000000  0.860756\n",
       "b  0.860756  1.000000"
      ]
     },
     "metadata": {},
     "output_type": "display_data"
    },
    {
     "name": "stdout",
     "output_type": "stream",
     "text": [
      "Pearson custom = 0.860756\n",
      "-------------------------\n",
      "Spearman std\n"
     ]
    },
    {
     "data": {
      "text/html": [
       "<div>\n",
       "<style scoped>\n",
       "    .dataframe tbody tr th:only-of-type {\n",
       "        vertical-align: middle;\n",
       "    }\n",
       "\n",
       "    .dataframe tbody tr th {\n",
       "        vertical-align: top;\n",
       "    }\n",
       "\n",
       "    .dataframe thead th {\n",
       "        text-align: right;\n",
       "    }\n",
       "</style>\n",
       "<table border=\"1\" class=\"dataframe\">\n",
       "  <thead>\n",
       "    <tr style=\"text-align: right;\">\n",
       "      <th></th>\n",
       "      <th>a</th>\n",
       "      <th>b</th>\n",
       "    </tr>\n",
       "  </thead>\n",
       "  <tbody>\n",
       "    <tr>\n",
       "      <th>a</th>\n",
       "      <td>1.000000</td>\n",
       "      <td>0.878788</td>\n",
       "    </tr>\n",
       "    <tr>\n",
       "      <th>b</th>\n",
       "      <td>0.878788</td>\n",
       "      <td>1.000000</td>\n",
       "    </tr>\n",
       "  </tbody>\n",
       "</table>\n",
       "</div>"
      ],
      "text/plain": [
       "          a         b\n",
       "a  1.000000  0.878788\n",
       "b  0.878788  1.000000"
      ]
     },
     "metadata": {},
     "output_type": "display_data"
    },
    {
     "name": "stdout",
     "output_type": "stream",
     "text": [
      "Spearman custom = 0.878788\n",
      "-------------------------\n",
      "Pearson std\n"
     ]
    },
    {
     "data": {
      "text/html": [
       "<div>\n",
       "<style scoped>\n",
       "    .dataframe tbody tr th:only-of-type {\n",
       "        vertical-align: middle;\n",
       "    }\n",
       "\n",
       "    .dataframe tbody tr th {\n",
       "        vertical-align: top;\n",
       "    }\n",
       "\n",
       "    .dataframe thead th {\n",
       "        text-align: right;\n",
       "    }\n",
       "</style>\n",
       "<table border=\"1\" class=\"dataframe\">\n",
       "  <thead>\n",
       "    <tr style=\"text-align: right;\">\n",
       "      <th></th>\n",
       "      <th>a</th>\n",
       "      <th>b</th>\n",
       "    </tr>\n",
       "  </thead>\n",
       "  <tbody>\n",
       "    <tr>\n",
       "      <th>a</th>\n",
       "      <td>1.000000</td>\n",
       "      <td>0.800826</td>\n",
       "    </tr>\n",
       "    <tr>\n",
       "      <th>b</th>\n",
       "      <td>0.800826</td>\n",
       "      <td>1.000000</td>\n",
       "    </tr>\n",
       "  </tbody>\n",
       "</table>\n",
       "</div>"
      ],
      "text/plain": [
       "          a         b\n",
       "a  1.000000  0.800826\n",
       "b  0.800826  1.000000"
      ]
     },
     "metadata": {},
     "output_type": "display_data"
    },
    {
     "name": "stdout",
     "output_type": "stream",
     "text": [
      "Pearson custom = 0.800826\n",
      "-------------------------\n",
      "Spearman std\n"
     ]
    },
    {
     "data": {
      "text/html": [
       "<div>\n",
       "<style scoped>\n",
       "    .dataframe tbody tr th:only-of-type {\n",
       "        vertical-align: middle;\n",
       "    }\n",
       "\n",
       "    .dataframe tbody tr th {\n",
       "        vertical-align: top;\n",
       "    }\n",
       "\n",
       "    .dataframe thead th {\n",
       "        text-align: right;\n",
       "    }\n",
       "</style>\n",
       "<table border=\"1\" class=\"dataframe\">\n",
       "  <thead>\n",
       "    <tr style=\"text-align: right;\">\n",
       "      <th></th>\n",
       "      <th>a</th>\n",
       "      <th>b</th>\n",
       "    </tr>\n",
       "  </thead>\n",
       "  <tbody>\n",
       "    <tr>\n",
       "      <th>a</th>\n",
       "      <td>1.000000</td>\n",
       "      <td>0.878049</td>\n",
       "    </tr>\n",
       "    <tr>\n",
       "      <th>b</th>\n",
       "      <td>0.878049</td>\n",
       "      <td>1.000000</td>\n",
       "    </tr>\n",
       "  </tbody>\n",
       "</table>\n",
       "</div>"
      ],
      "text/plain": [
       "          a         b\n",
       "a  1.000000  0.878049\n",
       "b  0.878049  1.000000"
      ]
     },
     "metadata": {},
     "output_type": "display_data"
    },
    {
     "name": "stdout",
     "output_type": "stream",
     "text": [
      "Spearman custom = 0.878788\n",
      "-------------------------\n"
     ]
    }
   ],
   "source": [
    "for _ in range(2):\n",
    "    a = np.random.randint(-100, 100, 10)\n",
    "    b = a * 2 + random.randint(-100, 100)\n",
    "    b[3] = random.randint(10, 100)\n",
    "\n",
    "    df = pd.DataFrame({\n",
    "    \"a\": a,\n",
    "    \"b\": b\n",
    "    })\n",
    "    print(\"Pearson std\")\n",
    "    display(df.corr())\n",
    "    print(f\"Pearson custom = {calc_corr(a, b):.6f}\\n{'-'*25}\")\n",
    "    print(\"Spearman std\")\n",
    "    display(df.corr(\"spearman\"))\n",
    "    print(f\"Spearman custom = {calc_corr(a, b, 'spearman'):.6f}\\n{'-'*25}\")"
   ]
  }
 ],
 "metadata": {
  "kernelspec": {
   "display_name": "venv",
   "language": "python",
   "name": "python3"
  },
  "language_info": {
   "codemirror_mode": {
    "name": "ipython",
    "version": 3
   },
   "file_extension": ".py",
   "mimetype": "text/x-python",
   "name": "python",
   "nbconvert_exporter": "python",
   "pygments_lexer": "ipython3",
   "version": "3.10.12"
  }
 },
 "nbformat": 4,
 "nbformat_minor": 2
}
