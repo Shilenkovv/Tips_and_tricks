{
 "cells": [
  {
   "cell_type": "code",
   "execution_count": null,
   "metadata": {},
   "outputs": [],
   "source": [
    "import os\n",
    "import getpass\n",
    "import psycopg2 # GP\n",
    "import pymssql # mysql\n",
    "from time import time"
   ]
  },
  {
   "cell_type": "code",
   "execution_count": 9,
   "metadata": {},
   "outputs": [],
   "source": [
    "os.environ[\"AUTH_USERNAME\"] = 'login' # your login\n",
    "os.environ[\"AUTH_PASSWORD\"] = getpass.getpass()\n",
    "\n",
    "LOGIN_SQL = os.environ[\"AUTH_USERNAME\"]\n",
    "PWD = os.environ[\"AUTH_PASSWORD\"]"
   ]
  },
  {
   "cell_type": "code",
   "execution_count": null,
   "metadata": {},
   "outputs": [],
   "source": [
    "conn_sp_args = f' \\\n",
    "host = 10.10.8.10 \\\n",
    "port = 5252 \\\n",
    "dbname=rdwh \\\n",
    "user={LOGIN_SQL} \\\n",
    "password={PWD} \\\n",
    "'"
   ]
  },
  {
   "cell_type": "code",
   "execution_count": null,
   "metadata": {},
   "outputs": [],
   "source": [
    "conn_mssql = pymssql.connect(\n",
    "    server = \"10.10.1.84\",\n",
    "    user = fr'company\\{LOGIN_SQL}',\n",
    "    password = PWD,\n",
    "    database = \"DB_NAME\",\n",
    "    port = \"1444\")\n"
   ]
  },
  {
   "cell_type": "code",
   "execution_count": null,
   "metadata": {},
   "outputs": [],
   "source": [
    "def get_data(sql_rec, conn=\"gp\"):\n",
    "    s = time()\n",
    "    if conn == \"gp\":\n",
    "        conn_gp = psycopg2.connect(conn_gp_args)\n",
    "        cursor_gp = conn_gp.cursor()\n",
    "        df = pd.read_sql(sql=sql_rec, con=conn_gp)\n",
    "        cursor_gp.close()\n",
    "    elif conn == \"mssql\":\n",
    "        cursor_mssql = conn_mssql.cursor()\n",
    "        cursor_mssql.execute(sql_rec)\n",
    "        records=cursor_mssql.fetchall()\n",
    "        df = pd.DataFrame(data=records, columns=[column[0] for column in cursor_mssql.description])\n",
    "        cursor_mssql.close()\n",
    "    else:\n",
    "        raise Exception(\"Unknown db name, please use 'gp' or 'mssql'\")\n",
    "    e = time()\n",
    "    print(f'finished in {int((e - s) // 60)}m. {int((e - s) % 60)}s.')\n",
    "    return df"
   ]
  }
 ],
 "metadata": {
  "kernelspec": {
   "display_name": "venv",
   "language": "python",
   "name": "python3"
  },
  "language_info": {
   "codemirror_mode": {
    "name": "ipython",
    "version": 3
   },
   "file_extension": ".py",
   "mimetype": "text/x-python",
   "name": "python",
   "nbconvert_exporter": "python",
   "pygments_lexer": "ipython3",
   "version": "3.10.12"
  }
 },
 "nbformat": 4,
 "nbformat_minor": 2
}
